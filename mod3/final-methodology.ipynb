{
 "cells": [
  {
   "cell_type": "markdown",
   "id": "23cd8dec",
   "metadata": {},
   "source": [
    "# Which topic did you choose to apply the data science methodology to?\n",
    "\n",
    "--------\n",
    "\n",
    "I'll pick the hospital topic"
   ]
  },
  {
   "cell_type": "markdown",
   "id": "74fc638e",
   "metadata": {},
   "source": [
    "# Next, you will play the role of the client and the data scientist. \n",
    "\n",
    "# Using the topic that you selected, complete the Business Understanding stage by coming up with a problem that you would like to solve and phrasing it in the form of a question that you will use data to answer. (3 marks)\n",
    "\n",
    "# You are required to:\n",
    "\n",
    "    Describe the problem, related to the topic you selected.\n",
    "\n",
    "    Phrase the problem as a question to be answered using data.\n",
    "\n",
    "# For example, using the food recipes use case discussed in the labs, the question that we defined was, \"Can we automatically determine the cuisine of a given dish based on its ingredients?\".\n",
    "\n",
    "-------\n",
    "Problem: Many people will make an appointment only to not show up. What causes this and how can it be mittigated."
   ]
  },
  {
   "cell_type": "markdown",
   "id": "fc519e8e",
   "metadata": {},
   "source": [
    "# Briefly explain how you would complete each of the following stages for the problem that you described in the Business Understanding stage, so that you are ultimately able to answer the question that you came up with. (5 marks):\n",
    "\n",
    "    Analytic Approach\n",
    "\n",
    "    Data Requirements\n",
    "\n",
    "    Data Collection\n",
    "\n",
    "    Data Understanding and Preparation\n",
    "\n",
    "    Modeling and Evaluation\n",
    "\n",
    "# You can always refer to the labs as a reference with describing how you would complete each stage for your problem.\n",
    "\n",
    "----\n",
    "\n",
    "1. Analytic Approach - A decision tree classification model would be well suited to creating a predictive model on whether or not a patient comes in, and lead to a greater understanding of why they might not have.\n",
    "\n",
    "2. Data Requirements - This would begin with picking a suitable cohort. Then planning out how to organize the data. It would make the most sense for there to be on record per patient detailing things like the medical history at that hospital, the time they were scheduled, and living distance.\n",
    "\n",
    "3. Data Collection - Working back and forth with the hospital to gather enough material with the correct variables to find an answer.\n",
    "\n",
    "4. Data Understanding/Preparation - Once the data is actually there it's time to make sure it's all properly formated, missing values and noticed and understood/dealt with, to look a look at whether it's revealing any features that should be thought over before finishing cleaning and continuing.\n",
    "\n",
    "5. Modeling & Evaluation - At this stage, it's time to develop an actual predictive model using the data as a training set. It will likely take a few tries going back and forth between data collection and preparation but at this stage allow for viewing the model's behavior to make it possible to fine-tune the model's parameters."
   ]
  }
 ],
 "metadata": {
  "kernelspec": {
   "display_name": "Python 3 (ipykernel)",
   "language": "python",
   "name": "python3"
  },
  "language_info": {
   "codemirror_mode": {
    "name": "ipython",
    "version": 3
   },
   "file_extension": ".py",
   "mimetype": "text/x-python",
   "name": "python",
   "nbconvert_exporter": "python",
   "pygments_lexer": "ipython3",
   "version": "3.9.12"
  }
 },
 "nbformat": 4,
 "nbformat_minor": 5
}
